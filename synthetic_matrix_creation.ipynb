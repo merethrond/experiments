{
 "cells": [
  {
   "cell_type": "markdown",
   "metadata": {},
   "source": [
    "****Specification:****\n",
    "\n",
    "matrix-shape:   (5,5)\n",
    "\n",
    "values:         1 to 10 \n",
    "\n",
    "The matrix should be created in a manner in which absolute difference between **adjacent** elements in each column is between 3 to 5\n",
    "\n"
   ]
  },
  {
   "cell_type": "code",
   "execution_count": 1,
   "metadata": {
    "collapsed": true
   },
   "outputs": [],
   "source": [
    "import numpy as np"
   ]
  },
  {
   "cell_type": "code",
   "execution_count": 2,
   "metadata": {
    "collapsed": true
   },
   "outputs": [],
   "source": [
    "#initializing the array with zeros\n",
    "arr_size = 5\n",
    "arr = np.zeros((arr_size,arr_size))"
   ]
  },
  {
   "cell_type": "code",
   "execution_count": 3,
   "metadata": {},
   "outputs": [
    {
     "data": {
      "text/plain": [
       "array([[ 0.,  0.,  0.,  0.,  0.],\n",
       "       [ 0.,  0.,  0.,  0.,  0.],\n",
       "       [ 0.,  0.,  0.,  0.,  0.],\n",
       "       [ 0.,  0.,  0.,  0.,  0.],\n",
       "       [ 0.,  0.,  0.,  0.,  0.]])"
      ]
     },
     "execution_count": 3,
     "metadata": {},
     "output_type": "execute_result"
    }
   ],
   "source": [
    "arr"
   ]
  },
  {
   "cell_type": "code",
   "execution_count": 4,
   "metadata": {},
   "outputs": [
    {
     "data": {
      "text/plain": [
       "5"
      ]
     },
     "execution_count": 4,
     "metadata": {},
     "output_type": "execute_result"
    }
   ],
   "source": [
    "#initialising vector a with first column of the matrix\n",
    "a = arr[:,0]\n",
    "a.size"
   ]
  },
  {
   "cell_type": "code",
   "execution_count": 5,
   "metadata": {
    "collapsed": true
   },
   "outputs": [],
   "source": [
    "#Variable upto which the random.choice function can pick values\n",
    "high = 10"
   ]
  },
  {
   "cell_type": "code",
   "execution_count": 6,
   "metadata": {},
   "outputs": [
    {
     "data": {
      "text/plain": [
       "9.0"
      ]
     },
     "execution_count": 6,
     "metadata": {},
     "output_type": "execute_result"
    }
   ],
   "source": [
    "\n",
    "a[0] = np.random.choice(high) + 1  #1 is added to make the range 1...10 from 0...9\n",
    "a[0]"
   ]
  },
  {
   "cell_type": "code",
   "execution_count": 7,
   "metadata": {
    "collapsed": true
   },
   "outputs": [],
   "source": [
    "for i in range(1,arr_size):\n",
    "    a[i] = np.random.choice(high) + 1\n",
    "    #keep generating random number till the criteria is met\n",
    "    while not(np.abs(a[i] - a[i-1]) >= 3 and np.abs(a[i] - a[i-1]) <= 5):\n",
    "        a[i] = np.random.choice(high) + 1 \n",
    "    "
   ]
  },
  {
   "cell_type": "code",
   "execution_count": 8,
   "metadata": {},
   "outputs": [
    {
     "data": {
      "text/plain": [
       "array([ 9.,  4.,  7.,  3.,  6.])"
      ]
     },
     "execution_count": 8,
     "metadata": {},
     "output_type": "execute_result"
    }
   ],
   "source": [
    "a"
   ]
  },
  {
   "cell_type": "code",
   "execution_count": 9,
   "metadata": {
    "collapsed": true
   },
   "outputs": [],
   "source": [
    "#Assigning the changed value of a as the first column of our array.\n",
    "arr[:,0] = a"
   ]
  },
  {
   "cell_type": "code",
   "execution_count": 10,
   "metadata": {},
   "outputs": [
    {
     "data": {
      "text/plain": [
       "array([[ 9.,  0.,  0.,  0.,  0.],\n",
       "       [ 4.,  0.,  0.,  0.,  0.],\n",
       "       [ 7.,  0.,  0.,  0.,  0.],\n",
       "       [ 3.,  0.,  0.,  0.,  0.],\n",
       "       [ 6.,  0.,  0.,  0.,  0.]])"
      ]
     },
     "execution_count": 10,
     "metadata": {},
     "output_type": "execute_result"
    }
   ],
   "source": [
    "arr"
   ]
  },
  {
   "cell_type": "code",
   "execution_count": 11,
   "metadata": {
    "collapsed": true
   },
   "outputs": [],
   "source": [
    "#Repeating the same thing for all the columns of the array.\n",
    "#Doing the whole process again, simultaneously for all columns of the array.\n",
    "arr_size = 5\n",
    "high = 10\n",
    "arr = np.zeros((arr_size,arr_size))\n",
    "for column in range(arr_size):\n",
    "    a = arr[:,column]\n",
    "    a[0] = np.random.choice(high) + 1  #1 is added to make the range 1...10 from 0...9\n",
    "    for i in range(1,arr_size):\n",
    "        a[i] = np.random.choice(high) + 1 \n",
    "        while not(np.abs(a[i] - a[i-1]) >= 3 and np.abs(a[i] - a[i-1]) <= 5):\n",
    "            a[i] = np.random.choice(high) + 1 \n",
    "    arr[:,column] = a\n",
    "\n"
   ]
  },
  {
   "cell_type": "code",
   "execution_count": 12,
   "metadata": {},
   "outputs": [
    {
     "data": {
      "text/plain": [
       "array([[ 5.,  2.,  5.,  9.,  4.],\n",
       "       [ 8.,  5.,  2.,  6.,  7.],\n",
       "       [ 4.,  9.,  5.,  9.,  2.],\n",
       "       [ 7.,  4.,  9.,  6.,  5.],\n",
       "       [ 3.,  1.,  5.,  2.,  8.]])"
      ]
     },
     "execution_count": 12,
     "metadata": {},
     "output_type": "execute_result"
    }
   ],
   "source": [
    "arr"
   ]
  }
 ],
 "metadata": {
  "kernelspec": {
   "display_name": "Python 3",
   "language": "python",
   "name": "python3"
  },
  "language_info": {
   "codemirror_mode": {
    "name": "ipython",
    "version": 3
   },
   "file_extension": ".py",
   "mimetype": "text/x-python",
   "name": "python",
   "nbconvert_exporter": "python",
   "pygments_lexer": "ipython3",
   "version": "3.6.2"
  }
 },
 "nbformat": 4,
 "nbformat_minor": 2
}
